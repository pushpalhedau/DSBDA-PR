{
 "cells": [
  {
   "cell_type": "code",
   "execution_count": 11,
   "id": "643512c4",
   "metadata": {},
   "outputs": [
    {
     "data": {
      "text/html": [
       "<div>\n",
       "<style scoped>\n",
       "    .dataframe tbody tr th:only-of-type {\n",
       "        vertical-align: middle;\n",
       "    }\n",
       "\n",
       "    .dataframe tbody tr th {\n",
       "        vertical-align: top;\n",
       "    }\n",
       "\n",
       "    .dataframe thead th {\n",
       "        text-align: right;\n",
       "    }\n",
       "</style>\n",
       "<table border=\"1\" class=\"dataframe\">\n",
       "  <thead>\n",
       "    <tr style=\"text-align: right;\">\n",
       "      <th></th>\n",
       "      <th>Rollno</th>\n",
       "      <th>Marks</th>\n",
       "      <th>Gender</th>\n",
       "      <th>Age</th>\n",
       "      <th>PhD</th>\n",
       "    </tr>\n",
       "  </thead>\n",
       "  <tbody>\n",
       "    <tr>\n",
       "      <th>0</th>\n",
       "      <td>1</td>\n",
       "      <td>140.0</td>\n",
       "      <td>1</td>\n",
       "      <td>47.0</td>\n",
       "      <td>Yes</td>\n",
       "    </tr>\n",
       "    <tr>\n",
       "      <th>1</th>\n",
       "      <td>2</td>\n",
       "      <td>30.0</td>\n",
       "      <td>0</td>\n",
       "      <td>65.0</td>\n",
       "      <td>Yes</td>\n",
       "    </tr>\n",
       "    <tr>\n",
       "      <th>2</th>\n",
       "      <td>3</td>\n",
       "      <td>35.1</td>\n",
       "      <td>0</td>\n",
       "      <td>56.0</td>\n",
       "      <td>No</td>\n",
       "    </tr>\n",
       "    <tr>\n",
       "      <th>3</th>\n",
       "      <td>4</td>\n",
       "      <td>30.0</td>\n",
       "      <td>1</td>\n",
       "      <td>23.0</td>\n",
       "      <td>No</td>\n",
       "    </tr>\n",
       "    <tr>\n",
       "      <th>4</th>\n",
       "      <td>5</td>\n",
       "      <td>80.0</td>\n",
       "      <td>0</td>\n",
       "      <td>NaN</td>\n",
       "      <td>Yes</td>\n",
       "    </tr>\n",
       "    <tr>\n",
       "      <th>...</th>\n",
       "      <td>...</td>\n",
       "      <td>...</td>\n",
       "      <td>...</td>\n",
       "      <td>...</td>\n",
       "      <td>...</td>\n",
       "    </tr>\n",
       "    <tr>\n",
       "      <th>95</th>\n",
       "      <td>96</td>\n",
       "      <td>18.6</td>\n",
       "      <td>1</td>\n",
       "      <td>26.0</td>\n",
       "      <td>No</td>\n",
       "    </tr>\n",
       "    <tr>\n",
       "      <th>96</th>\n",
       "      <td>97</td>\n",
       "      <td>152.0</td>\n",
       "      <td>1</td>\n",
       "      <td>56.0</td>\n",
       "      <td>Yes</td>\n",
       "    </tr>\n",
       "    <tr>\n",
       "      <th>97</th>\n",
       "      <td>98</td>\n",
       "      <td>1.8</td>\n",
       "      <td>1</td>\n",
       "      <td>28.0</td>\n",
       "      <td>No</td>\n",
       "    </tr>\n",
       "    <tr>\n",
       "      <th>98</th>\n",
       "      <td>99</td>\n",
       "      <td>35.0</td>\n",
       "      <td>0</td>\n",
       "      <td>44.0</td>\n",
       "      <td>NaN</td>\n",
       "    </tr>\n",
       "    <tr>\n",
       "      <th>99</th>\n",
       "      <td>100</td>\n",
       "      <td>4.0</td>\n",
       "      <td>0</td>\n",
       "      <td>24.0</td>\n",
       "      <td>No</td>\n",
       "    </tr>\n",
       "  </tbody>\n",
       "</table>\n",
       "<p>100 rows × 5 columns</p>\n",
       "</div>"
      ],
      "text/plain": [
       "    Rollno  Marks  Gender   Age  PhD\n",
       "0        1  140.0       1  47.0  Yes\n",
       "1        2   30.0       0  65.0  Yes\n",
       "2        3   35.1       0  56.0   No\n",
       "3        4   30.0       1  23.0   No\n",
       "4        5   80.0       0   NaN  Yes\n",
       "..     ...    ...     ...   ...  ...\n",
       "95      96   18.6       1  26.0   No\n",
       "96      97  152.0       1  56.0  Yes\n",
       "97      98    1.8       1  28.0   No\n",
       "98      99   35.0       0  44.0  NaN\n",
       "99     100    4.0       0  24.0   No\n",
       "\n",
       "[100 rows x 5 columns]"
      ]
     },
     "execution_count": 11,
     "metadata": {},
     "output_type": "execute_result"
    }
   ],
   "source": [
    "import pandas as pd\n",
    "import numpy as np\n",
    "import scipy\n",
    "import scipy.stats as stats\n",
    "import matplotlib.pyplot as plt\n",
    "import seaborn as sns\n",
    "from sklearn.preprocessing import StandardScaler\n",
    "df=pd.read_csv('C:/Users/HARSH PATIL/Desktop/dataset/3-4. AcademicPerformance.csv')\n",
    "df\n"
   ]
  },
  {
   "cell_type": "code",
   "execution_count": 12,
   "id": "35610b4e",
   "metadata": {},
   "outputs": [
    {
     "data": {
      "text/plain": [
       "Rollno     0\n",
       "Marks      0\n",
       "Gender     0\n",
       "Age       16\n",
       "PhD       13\n",
       "dtype: int64"
      ]
     },
     "execution_count": 12,
     "metadata": {},
     "output_type": "execute_result"
    }
   ],
   "source": [
    "\n",
    "df.isnull().sum()\n"
   ]
  },
  {
   "cell_type": "code",
   "execution_count": 13,
   "id": "545ecc6f",
   "metadata": {},
   "outputs": [
    {
     "data": {
      "text/plain": [
       "Rollno    0\n",
       "Marks     0\n",
       "Gender    0\n",
       "Age       0\n",
       "PhD       0\n",
       "dtype: int64"
      ]
     },
     "execution_count": 13,
     "metadata": {},
     "output_type": "execute_result"
    }
   ],
   "source": [
    "df['Age'].fillna(value=df['Age'].mean(),inplace=True)\n",
    "df.fillna(\"null\",inplace=True)\n",
    "df.isnull().sum()"
   ]
  },
  {
   "cell_type": "code",
   "execution_count": 14,
   "id": "2ed53385",
   "metadata": {},
   "outputs": [],
   "source": [
    "outliers = []\n",
    "def detect(df):\n",
    "    threshold = 3\n",
    "    mean = np.mean(df)\n",
    "    std = np.std(df)\n",
    "    \n",
    "    for d in df:\n",
    "        z_score = (d-mean)/std\n",
    "        if np.abs(z_score) > threshold:\n",
    "            outliers.append(d)\n",
    "    return outliers"
   ]
  },
  {
   "cell_type": "code",
   "execution_count": 15,
   "id": "5910ef0c",
   "metadata": {},
   "outputs": [],
   "source": [
    "var='Marks'"
   ]
  },
  {
   "cell_type": "code",
   "execution_count": 16,
   "id": "5894defa",
   "metadata": {},
   "outputs": [
    {
     "data": {
      "text/html": [
       "<div>\n",
       "<style scoped>\n",
       "    .dataframe tbody tr th:only-of-type {\n",
       "        vertical-align: middle;\n",
       "    }\n",
       "\n",
       "    .dataframe tbody tr th {\n",
       "        vertical-align: top;\n",
       "    }\n",
       "\n",
       "    .dataframe thead th {\n",
       "        text-align: right;\n",
       "    }\n",
       "</style>\n",
       "<table border=\"1\" class=\"dataframe\">\n",
       "  <thead>\n",
       "    <tr style=\"text-align: right;\">\n",
       "      <th></th>\n",
       "      <th>Rollno</th>\n",
       "      <th>Marks</th>\n",
       "      <th>Gender</th>\n",
       "      <th>Age</th>\n",
       "      <th>PhD</th>\n",
       "    </tr>\n",
       "  </thead>\n",
       "  <tbody>\n",
       "    <tr>\n",
       "      <th>18</th>\n",
       "      <td>19</td>\n",
       "      <td>190.0</td>\n",
       "      <td>1</td>\n",
       "      <td>66.0</td>\n",
       "      <td>Yes</td>\n",
       "    </tr>\n",
       "  </tbody>\n",
       "</table>\n",
       "</div>"
      ],
      "text/plain": [
       "    Rollno  Marks  Gender   Age  PhD\n",
       "18      19  190.0       1  66.0  Yes"
      ]
     },
     "execution_count": 16,
     "metadata": {},
     "output_type": "execute_result"
    }
   ],
   "source": [
    "z_scores=detect(df[var])\n",
    "outliers=df[df[var].isin(z_scores)]\n",
    "outliers"
   ]
  },
  {
   "cell_type": "code",
   "execution_count": 17,
   "id": "487e8cc6",
   "metadata": {},
   "outputs": [
    {
     "data": {
      "text/html": [
       "<div>\n",
       "<style scoped>\n",
       "    .dataframe tbody tr th:only-of-type {\n",
       "        vertical-align: middle;\n",
       "    }\n",
       "\n",
       "    .dataframe tbody tr th {\n",
       "        vertical-align: top;\n",
       "    }\n",
       "\n",
       "    .dataframe thead th {\n",
       "        text-align: right;\n",
       "    }\n",
       "</style>\n",
       "<table border=\"1\" class=\"dataframe\">\n",
       "  <thead>\n",
       "    <tr style=\"text-align: right;\">\n",
       "      <th></th>\n",
       "      <th>Rollno</th>\n",
       "      <th>Marks</th>\n",
       "      <th>Gender</th>\n",
       "      <th>Age</th>\n",
       "      <th>PhD</th>\n",
       "    </tr>\n",
       "  </thead>\n",
       "  <tbody>\n",
       "    <tr>\n",
       "      <th>0</th>\n",
       "      <td>1</td>\n",
       "      <td>140.0</td>\n",
       "      <td>1</td>\n",
       "      <td>47.000000</td>\n",
       "      <td>Yes</td>\n",
       "    </tr>\n",
       "    <tr>\n",
       "      <th>1</th>\n",
       "      <td>2</td>\n",
       "      <td>30.0</td>\n",
       "      <td>0</td>\n",
       "      <td>65.000000</td>\n",
       "      <td>Yes</td>\n",
       "    </tr>\n",
       "    <tr>\n",
       "      <th>2</th>\n",
       "      <td>3</td>\n",
       "      <td>35.1</td>\n",
       "      <td>0</td>\n",
       "      <td>56.000000</td>\n",
       "      <td>No</td>\n",
       "    </tr>\n",
       "    <tr>\n",
       "      <th>3</th>\n",
       "      <td>4</td>\n",
       "      <td>30.0</td>\n",
       "      <td>1</td>\n",
       "      <td>23.000000</td>\n",
       "      <td>No</td>\n",
       "    </tr>\n",
       "    <tr>\n",
       "      <th>4</th>\n",
       "      <td>5</td>\n",
       "      <td>80.0</td>\n",
       "      <td>0</td>\n",
       "      <td>47.821429</td>\n",
       "      <td>Yes</td>\n",
       "    </tr>\n",
       "    <tr>\n",
       "      <th>...</th>\n",
       "      <td>...</td>\n",
       "      <td>...</td>\n",
       "      <td>...</td>\n",
       "      <td>...</td>\n",
       "      <td>...</td>\n",
       "    </tr>\n",
       "    <tr>\n",
       "      <th>95</th>\n",
       "      <td>96</td>\n",
       "      <td>18.6</td>\n",
       "      <td>1</td>\n",
       "      <td>26.000000</td>\n",
       "      <td>No</td>\n",
       "    </tr>\n",
       "    <tr>\n",
       "      <th>96</th>\n",
       "      <td>97</td>\n",
       "      <td>152.0</td>\n",
       "      <td>1</td>\n",
       "      <td>56.000000</td>\n",
       "      <td>Yes</td>\n",
       "    </tr>\n",
       "    <tr>\n",
       "      <th>97</th>\n",
       "      <td>98</td>\n",
       "      <td>1.8</td>\n",
       "      <td>1</td>\n",
       "      <td>28.000000</td>\n",
       "      <td>No</td>\n",
       "    </tr>\n",
       "    <tr>\n",
       "      <th>98</th>\n",
       "      <td>99</td>\n",
       "      <td>35.0</td>\n",
       "      <td>0</td>\n",
       "      <td>44.000000</td>\n",
       "      <td>null</td>\n",
       "    </tr>\n",
       "    <tr>\n",
       "      <th>99</th>\n",
       "      <td>100</td>\n",
       "      <td>4.0</td>\n",
       "      <td>0</td>\n",
       "      <td>24.000000</td>\n",
       "      <td>No</td>\n",
       "    </tr>\n",
       "  </tbody>\n",
       "</table>\n",
       "<p>99 rows × 5 columns</p>\n",
       "</div>"
      ],
      "text/plain": [
       "    Rollno  Marks  Gender        Age   PhD\n",
       "0        1  140.0       1  47.000000   Yes\n",
       "1        2   30.0       0  65.000000   Yes\n",
       "2        3   35.1       0  56.000000    No\n",
       "3        4   30.0       1  23.000000    No\n",
       "4        5   80.0       0  47.821429   Yes\n",
       "..     ...    ...     ...        ...   ...\n",
       "95      96   18.6       1  26.000000    No\n",
       "96      97  152.0       1  56.000000   Yes\n",
       "97      98    1.8       1  28.000000    No\n",
       "98      99   35.0       0  44.000000  null\n",
       "99     100    4.0       0  24.000000    No\n",
       "\n",
       "[99 rows x 5 columns]"
      ]
     },
     "execution_count": 17,
     "metadata": {},
     "output_type": "execute_result"
    }
   ],
   "source": [
    "dfs = df[~df.index.isin(outliers.index)]\n",
    "#df2=df[var].drop(df[var][df[var].isin(z_scores)])\n",
    "dfs"
   ]
  },
  {
   "cell_type": "code",
   "execution_count": 18,
   "id": "d3031842",
   "metadata": {},
   "outputs": [
    {
     "name": "stderr",
     "output_type": "stream",
     "text": [
      "C:\\Users\\HARSH PATIL\\AppData\\Local\\Temp\\ipykernel_10236\\4029879126.py:1: FutureWarning: The default value of numeric_only in DataFrame.skew is deprecated. In a future version, it will default to False. In addition, specifying 'numeric_only=None' is deprecated. Select only valid columns or specify the value of numeric_only to silence this warning.\n",
      "  dfs.skew(axis =0)\n"
     ]
    },
    {
     "data": {
      "text/plain": [
       "Rollno   -0.020245\n",
       "Marks     0.958305\n",
       "Gender    0.020515\n",
       "Age      -0.246740\n",
       "dtype: float64"
      ]
     },
     "execution_count": 18,
     "metadata": {},
     "output_type": "execute_result"
    }
   ],
   "source": [
    "dfs.skew(axis =0)"
   ]
  },
  {
   "cell_type": "code",
   "execution_count": 19,
   "id": "72a8b0a7",
   "metadata": {},
   "outputs": [
    {
     "data": {
      "text/plain": [
       "array([[<Axes: title={'center': 'Rollno'}>,\n",
       "        <Axes: title={'center': 'Marks'}>],\n",
       "       [<Axes: title={'center': 'Gender'}>,\n",
       "        <Axes: title={'center': 'Age'}>]], dtype=object)"
      ]
     },
     "execution_count": 19,
     "metadata": {},
     "output_type": "execute_result"
    },
    {
     "data": {
      "image/png": "[encoded data removed]",
      "text/plain": [
       "<Figure size 1600x1000 with 4 Axes>"
      ]
     },
     "metadata": {},
     "output_type": "display_data"
    }
   ],
   "source": [
    "dfs.hist(alpha=0.5, figsize=(16, 10))"
   ]
  },
  {
   "cell_type": "code",
   "execution_count": 20,
   "id": "22bd8d0a",
   "metadata": {},
   "outputs": [
    {
     "data": {
      "text/plain": [
       "<Axes: xlabel='Marks', ylabel='Density'>"
      ]
     },
     "execution_count": 20,
     "metadata": {},
     "output_type": "execute_result"
    },
    {
     "data": {
      "image/png": "[encoded data removed]",
      "text/plain": [
       "<Figure size 640x480 with 1 Axes>"
      ]
     },
     "metadata": {},
     "output_type": "display_data"
    }
   ],
   "source": [
    "sns.kdeplot(dfs['Marks'])"
   ]
  },
  {
   "cell_type": "code",
   "execution_count": 21,
   "id": "011719cb",
   "metadata": {},
   "outputs": [
    {
     "data": {
      "text/plain": [
       "<Axes: xlabel='Marks', ylabel='Density'>"
      ]
     },
     "execution_count": 21,
     "metadata": {},
     "output_type": "execute_result"
    },
    {
     "data": {
      "image/png": "[encoded data removed]",
      "text/plain": [
       "<Figure size 640x480 with 1 Axes>"
      ]
     },
     "metadata": {},
     "output_type": "display_data"
    }
   ],
   "source": [
    "a = np.log(dfs['Marks'])\n",
    "\n",
    "a.skew(axis=0)\n",
    "\n",
    "sns.kdeplot(a)"
   ]
  },
  {
   "cell_type": "code",
   "execution_count": 22,
   "id": "6cd45de4",
   "metadata": {},
   "outputs": [
    {
     "data": {
      "image/png": "[encoded data removed]",
      "text/plain": [
       "<Figure size 1400x800 with 2 Axes>"
      ]
     },
     "metadata": {},
     "output_type": "display_data"
    }
   ],
   "source": [
    "plt.figure(figsize=(14,8))\n",
    "plt.subplot(1,2,1) ## means 1 row , 2 columns and 1st plot\n",
    "dfs['Marks'].hist(bins=30)\n",
    "\n",
    "plt.subplot(1,2,2)\n",
    "stats.probplot(dfs['Marks'], dist=\"norm\", plot=plt)\n",
    "plt.show()"
   ]
  },
  {
   "cell_type": "code",
   "execution_count": 23,
   "id": "a20a74e5",
   "metadata": {},
   "outputs": [
    {
     "data": {
      "text/plain": [
       "<Axes: xlabel='Marks', ylabel='Density'>"
      ]
     },
     "execution_count": 23,
     "metadata": {},
     "output_type": "execute_result"
    },
    {
     "data": {
      "image/png": "[encoded data removed]",
      "text/plain": [
       "<Figure size 640x480 with 1 Axes>"
      ]
     },
     "metadata": {},
     "output_type": "display_data"
    }
   ],
   "source": [
    "sns.kdeplot(dfs['Marks'])"
   ]
  },
  {
   "cell_type": "code",
   "execution_count": 27,
   "id": "053242df",
   "metadata": {},
   "outputs": [
    {
     "data": {
      "text/html": [
       "<div>\n",
       "<style scoped>\n",
       "    .dataframe tbody tr th:only-of-type {\n",
       "        vertical-align: middle;\n",
       "    }\n",
       "\n",
       "    .dataframe tbody tr th {\n",
       "        vertical-align: top;\n",
       "    }\n",
       "\n",
       "    .dataframe thead th {\n",
       "        text-align: right;\n",
       "    }\n",
       "</style>\n",
       "<table border=\"1\" class=\"dataframe\">\n",
       "  <thead>\n",
       "    <tr style=\"text-align: right;\">\n",
       "      <th></th>\n",
       "      <th>Marks</th>\n",
       "      <th>Age</th>\n",
       "    </tr>\n",
       "  </thead>\n",
       "  <tbody>\n",
       "    <tr>\n",
       "      <th>0</th>\n",
       "      <td>140.0</td>\n",
       "      <td>47.000000</td>\n",
       "    </tr>\n",
       "    <tr>\n",
       "      <th>1</th>\n",
       "      <td>30.0</td>\n",
       "      <td>65.000000</td>\n",
       "    </tr>\n",
       "    <tr>\n",
       "      <th>2</th>\n",
       "      <td>35.1</td>\n",
       "      <td>56.000000</td>\n",
       "    </tr>\n",
       "    <tr>\n",
       "      <th>3</th>\n",
       "      <td>30.0</td>\n",
       "      <td>23.000000</td>\n",
       "    </tr>\n",
       "    <tr>\n",
       "      <th>4</th>\n",
       "      <td>80.0</td>\n",
       "      <td>47.821429</td>\n",
       "    </tr>\n",
       "    <tr>\n",
       "      <th>...</th>\n",
       "      <td>...</td>\n",
       "      <td>...</td>\n",
       "    </tr>\n",
       "    <tr>\n",
       "      <th>95</th>\n",
       "      <td>18.6</td>\n",
       "      <td>26.000000</td>\n",
       "    </tr>\n",
       "    <tr>\n",
       "      <th>96</th>\n",
       "      <td>152.0</td>\n",
       "      <td>56.000000</td>\n",
       "    </tr>\n",
       "    <tr>\n",
       "      <th>97</th>\n",
       "      <td>1.8</td>\n",
       "      <td>28.000000</td>\n",
       "    </tr>\n",
       "    <tr>\n",
       "      <th>98</th>\n",
       "      <td>35.0</td>\n",
       "      <td>44.000000</td>\n",
       "    </tr>\n",
       "    <tr>\n",
       "      <th>99</th>\n",
       "      <td>4.0</td>\n",
       "      <td>24.000000</td>\n",
       "    </tr>\n",
       "  </tbody>\n",
       "</table>\n",
       "<p>100 rows × 2 columns</p>\n",
       "</div>"
      ],
      "text/plain": [
       "    Marks        Age\n",
       "0   140.0  47.000000\n",
       "1    30.0  65.000000\n",
       "2    35.1  56.000000\n",
       "3    30.0  23.000000\n",
       "4    80.0  47.821429\n",
       "..    ...        ...\n",
       "95   18.6  26.000000\n",
       "96  152.0  56.000000\n",
       "97    1.8  28.000000\n",
       "98   35.0  44.000000\n",
       "99    4.0  24.000000\n",
       "\n",
       "[100 rows x 2 columns]"
      ]
     },
     "execution_count": 27,
     "metadata": {},
     "output_type": "execute_result"
    }
   ],
   "source": [
    "cols = [\"Marks\",\"Age\"]\n",
    "x = df.loc[:,cols]\n",
    "x"
   ]
  },
  {
   "cell_type": "code",
   "execution_count": 28,
   "id": "6c07ec48",
   "metadata": {},
   "outputs": [
    {
     "data": {
      "text/plain": [
       "array([[ 2.08228902, -0.05995937],\n",
       "       [-0.53617892,  1.25393299],\n",
       "       [-0.41477722,  0.59698681],\n",
       "       [-0.53617892, -1.81181586],\n",
       "       [ 0.65403378,  0.        ],\n",
       "       [-0.53617892, -1.51983978],\n",
       "       [ 0.1779487 ,  0.37800475],\n",
       "       [-0.50999424,  0.        ],\n",
       "       [ 1.72522521, -0.27894143],\n",
       "       [-0.03628959,  1.10794495],\n",
       "       [-1.17889378, -1.88480988],\n",
       "       [-0.15531085,  0.81596887],\n",
       "       [ 2.32033156,  0.88896289],\n",
       "       [-1.17889378, -1.44684576],\n",
       "       [ 1.84424648,  1.25393299],\n",
       "       [-0.89324273,  0.        ],\n",
       "       [ 1.84424648,  1.25393299],\n",
       "       [ 0.7492508 , -0.05995937],\n",
       "       [ 3.27250172,  1.32692701],\n",
       "       [ 0.51120826, -0.20594741],\n",
       "       [ 0.487404  , -0.13295339],\n",
       "       [-1.012264  ,  0.        ],\n",
       "       [-0.06009384,  0.88896289],\n",
       "       [-1.08367676,  1.10794495],\n",
       "       [-1.02416612, -1.51983978],\n",
       "       [-0.88848188,  1.32692701],\n",
       "       [-0.56950487, -0.8628936 ],\n",
       "       [-0.77422146,  0.        ],\n",
       "       [ 0.46359975,  0.23201671],\n",
       "       [ 0.67783803,  1.25393299],\n",
       "       [ 1.13011886,  0.        ],\n",
       "       [ 0.89207632,  0.30501073],\n",
       "       [ 0.89207632,  0.45099877],\n",
       "       [-0.41715765, -1.30085772],\n",
       "       [-0.53617892,  0.30501073],\n",
       "       [-0.65520019,  0.        ],\n",
       "       [-0.01248533,  0.08602867],\n",
       "       [-1.03606825, -1.88480988],\n",
       "       [ 0.24936146, -1.00888164],\n",
       "       [ 0.46359975,  0.        ],\n",
       "       [-0.86943847, -1.44684576],\n",
       "       [ 0.93968483,  0.74297485],\n",
       "       [ 1.27294438,  2.12986123],\n",
       "       [-1.1907959 ,  1.39992103],\n",
       "       [-1.03606825, -1.51983978],\n",
       "       [-0.48857041,  0.01303465],\n",
       "       [-0.48857041,  0.        ],\n",
       "       [ 0.05892743,  0.08602867],\n",
       "       [-0.01248533, -0.8628936 ],\n",
       "       [-0.58378743,  1.25393299],\n",
       "       [-0.77422146, -1.15486968],\n",
       "       [-0.900384  ,  0.08602867],\n",
       "       [-0.71947167,  1.39992103],\n",
       "       [-0.4219185 ,  0.        ],\n",
       "       [ 0.7492508 ,  0.08602867],\n",
       "       [-0.79802571, -0.35193545],\n",
       "       [ 2.5583741 ,  0.96195691],\n",
       "       [ 0.29696997, -0.35193545],\n",
       "       [ 0.05892743,  0.        ],\n",
       "       [-1.14080697,  0.23201671],\n",
       "       [ 1.17772737,  1.32692701],\n",
       "       [-0.77422146, -1.37385174],\n",
       "       [ 0.22555721,  1.03495093],\n",
       "       [ 0.05892743,  0.        ],\n",
       "       [-0.16483256,  0.96195691],\n",
       "       [-0.29813638,  0.59698681],\n",
       "       [-0.67900444, -0.4979235 ],\n",
       "       [-0.41715765, -1.73882184],\n",
       "       [-0.10770235,  0.88896289],\n",
       "       [-0.77422146, -0.35193545],\n",
       "       [-0.2814734 ,  0.66998083],\n",
       "       [-0.89324273,  0.        ],\n",
       "       [-1.24435547,  0.37800475],\n",
       "       [ 2.36794006,  1.69189711],\n",
       "       [-0.30289723, -2.03079792],\n",
       "       [-0.96465549, -1.51983978],\n",
       "       [-0.53617892,  1.54590907],\n",
       "       [ 1.60620394,  0.        ],\n",
       "       [-1.20983931, -0.78989958],\n",
       "       [-0.39335339, -1.15486968],\n",
       "       [ 1.03490184, -1.08187566],\n",
       "       [-0.34574489, -1.15486968],\n",
       "       [ 0.89207632,  0.88896289],\n",
       "       [-1.03606825,  0.        ],\n",
       "       [-0.63615678, -1.30085772],\n",
       "       [-0.72661295,  1.03495093],\n",
       "       [-0.32670148,  0.45099877],\n",
       "       [ 0.46359975, -0.42492948],\n",
       "       [ 0.86827207,  1.03495093],\n",
       "       [-0.27433212,  0.        ],\n",
       "       [ 0.86827207,  1.69189711],\n",
       "       [-0.65520019, -1.37385174],\n",
       "       [-0.01248533,  0.52399279],\n",
       "       [ 1.48718267,  0.45099877],\n",
       "       [ 0.32077422,  0.52399279],\n",
       "       [-0.80754741, -1.5928338 ],\n",
       "       [ 2.36794006,  0.59698681],\n",
       "       [-1.20745888, -1.44684576],\n",
       "       [-0.41715765, -0.27894143],\n",
       "       [-1.15508952, -1.73882184]])"
      ]
     },
     "execution_count": 28,
     "metadata": {},
     "output_type": "execute_result"
    }
   ],
   "source": [
    "scaler = StandardScaler()\n",
    "x = scaler.fit_transform(x)\n",
    "x"
   ]
  },
  {
   "cell_type": "code",
   "execution_count": 29,
   "id": "bfa5a870",
   "metadata": {},
   "outputs": [
    {
     "data": {
      "text/plain": [
       "array([[ 2.08228902, -0.53617892, -0.41477722, -0.53617892,  0.65403378,\n",
       "        -0.53617892,  0.1779487 , -0.50999424,  1.72522521, -0.03628959,\n",
       "        -1.17889378, -0.15531085,  2.32033156, -1.17889378,  1.84424648,\n",
       "        -0.89324273,  1.84424648,  0.7492508 ,  3.27250172,  0.51120826,\n",
       "         0.487404  , -1.012264  , -0.06009384, -1.08367676, -1.02416612,\n",
       "        -0.88848188, -0.56950487, -0.77422146,  0.46359975,  0.67783803,\n",
       "         1.13011886,  0.89207632,  0.89207632, -0.41715765, -0.53617892,\n",
       "        -0.65520019, -0.01248533, -1.03606825,  0.24936146,  0.46359975,\n",
       "        -0.86943847,  0.93968483,  1.27294438, -1.1907959 , -1.03606825,\n",
       "        -0.48857041, -0.48857041,  0.05892743, -0.01248533, -0.58378743,\n",
       "        -0.77422146, -0.900384  , -0.71947167, -0.4219185 ,  0.7492508 ,\n",
       "        -0.79802571,  2.5583741 ,  0.29696997,  0.05892743, -1.14080697,\n",
       "         1.17772737, -0.77422146,  0.22555721,  0.05892743, -0.16483256,\n",
       "        -0.29813638, -0.67900444, -0.41715765, -0.10770235, -0.77422146,\n",
       "        -0.2814734 , -0.89324273, -1.24435547,  2.36794006, -0.30289723,\n",
       "        -0.96465549, -0.53617892,  1.60620394, -1.20983931, -0.39335339,\n",
       "         1.03490184, -0.34574489,  0.89207632, -1.03606825, -0.63615678,\n",
       "        -0.72661295, -0.32670148,  0.46359975,  0.86827207, -0.27433212,\n",
       "         0.86827207, -0.65520019, -0.01248533,  1.48718267,  0.32077422,\n",
       "        -0.80754741,  2.36794006, -1.20745888, -0.41715765, -1.15508952],\n",
       "       [-0.05995937,  1.25393299,  0.59698681, -1.81181586,  0.        ,\n",
       "        -1.51983978,  0.37800475,  0.        , -0.27894143,  1.10794495,\n",
       "        -1.88480988,  0.81596887,  0.88896289, -1.44684576,  1.25393299,\n",
       "         0.        ,  1.25393299, -0.05995937,  1.32692701, -0.20594741,\n",
       "        -0.13295339,  0.        ,  0.88896289,  1.10794495, -1.51983978,\n",
       "         1.32692701, -0.8628936 ,  0.        ,  0.23201671,  1.25393299,\n",
       "         0.        ,  0.30501073,  0.45099877, -1.30085772,  0.30501073,\n",
       "         0.        ,  0.08602867, -1.88480988, -1.00888164,  0.        ,\n",
       "        -1.44684576,  0.74297485,  2.12986123,  1.39992103, -1.51983978,\n",
       "         0.01303465,  0.        ,  0.08602867, -0.8628936 ,  1.25393299,\n",
       "        -1.15486968,  0.08602867,  1.39992103,  0.        ,  0.08602867,\n",
       "        -0.35193545,  0.96195691, -0.35193545,  0.        ,  0.23201671,\n",
       "         1.32692701, -1.37385174,  1.03495093,  0.        ,  0.96195691,\n",
       "         0.59698681, -0.4979235 , -1.73882184,  0.88896289, -0.35193545,\n",
       "         0.66998083,  0.        ,  0.37800475,  1.69189711, -2.03079792,\n",
       "        -1.51983978,  1.54590907,  0.        , -0.78989958, -1.15486968,\n",
       "        -1.08187566, -1.15486968,  0.88896289,  0.        , -1.30085772,\n",
       "         1.03495093,  0.45099877, -0.42492948,  1.03495093,  0.        ,\n",
       "         1.69189711, -1.37385174,  0.52399279,  0.45099877,  0.52399279,\n",
       "        -1.5928338 ,  0.59698681, -1.44684576, -0.27894143, -1.73882184]])"
      ]
     },
     "execution_count": 29,
     "metadata": {},
     "output_type": "execute_result"
    }
   ],
   "source": [
    "x1 = np.transpose(x)\n",
    "x1"
   ]
  },
  {
   "cell_type": "code",
   "execution_count": 30,
   "id": "abd372eb",
   "metadata": {},
   "outputs": [
    {
     "data": {
      "text/plain": [
       "2"
      ]
     },
     "execution_count": 30,
     "metadata": {},
     "output_type": "execute_result"
    }
   ],
   "source": [
    "len(x1)"
   ]
  },
  {
   "cell_type": "code",
   "execution_count": 33,
   "id": "3974bb16",
   "metadata": {},
   "outputs": [
    {
     "data": {
      "text/html": [
       "<div>\n",
       "<style scoped>\n",
       "    .dataframe tbody tr th:only-of-type {\n",
       "        vertical-align: middle;\n",
       "    }\n",
       "\n",
       "    .dataframe tbody tr th {\n",
       "        vertical-align: top;\n",
       "    }\n",
       "\n",
       "    .dataframe thead th {\n",
       "        text-align: right;\n",
       "    }\n",
       "</style>\n",
       "<table border=\"1\" class=\"dataframe\">\n",
       "  <thead>\n",
       "    <tr style=\"text-align: right;\">\n",
       "      <th></th>\n",
       "      <th>Marks</th>\n",
       "      <th>Age</th>\n",
       "    </tr>\n",
       "  </thead>\n",
       "  <tbody>\n",
       "    <tr>\n",
       "      <th>0</th>\n",
       "      <td>2.082289</td>\n",
       "      <td>-0.059959</td>\n",
       "    </tr>\n",
       "    <tr>\n",
       "      <th>1</th>\n",
       "      <td>-0.536179</td>\n",
       "      <td>1.253933</td>\n",
       "    </tr>\n",
       "    <tr>\n",
       "      <th>2</th>\n",
       "      <td>-0.414777</td>\n",
       "      <td>0.596987</td>\n",
       "    </tr>\n",
       "    <tr>\n",
       "      <th>3</th>\n",
       "      <td>-0.536179</td>\n",
       "      <td>-1.811816</td>\n",
       "    </tr>\n",
       "    <tr>\n",
       "      <th>4</th>\n",
       "      <td>0.654034</td>\n",
       "      <td>0.000000</td>\n",
       "    </tr>\n",
       "  </tbody>\n",
       "</table>\n",
       "</div>"
      ],
      "text/plain": [
       "      Marks       Age\n",
       "0  2.082289 -0.059959\n",
       "1 -0.536179  1.253933\n",
       "2 -0.414777  0.596987\n",
       "3 -0.536179 -1.811816\n",
       "4  0.654034  0.000000"
      ]
     },
     "execution_count": 33,
     "metadata": {},
     "output_type": "execute_result"
    }
   ],
   "source": [
    "df1 = {}\n",
    "for i in range(2):\n",
    "    df1[cols[i]] = list(x1[i])\n",
    "df1 = pd.DataFrame(df1)\n",
    "df1.head()"
   ]
  },
  {
   "cell_type": "code",
   "execution_count": 34,
   "id": "c56f76c6",
   "metadata": {},
   "outputs": [
    {
     "data": {
      "text/html": [
       "<div>\n",
       "<style scoped>\n",
       "    .dataframe tbody tr th:only-of-type {\n",
       "        vertical-align: middle;\n",
       "    }\n",
       "\n",
       "    .dataframe tbody tr th {\n",
       "        vertical-align: top;\n",
       "    }\n",
       "\n",
       "    .dataframe thead th {\n",
       "        text-align: right;\n",
       "    }\n",
       "</style>\n",
       "<table border=\"1\" class=\"dataframe\">\n",
       "  <thead>\n",
       "    <tr style=\"text-align: right;\">\n",
       "      <th></th>\n",
       "      <th>Rollno</th>\n",
       "      <th>Marks</th>\n",
       "      <th>Gender</th>\n",
       "      <th>Age</th>\n",
       "      <th>PhD</th>\n",
       "    </tr>\n",
       "  </thead>\n",
       "  <tbody>\n",
       "    <tr>\n",
       "      <th>95</th>\n",
       "      <td>96</td>\n",
       "      <td>-0.807547</td>\n",
       "      <td>1</td>\n",
       "      <td>-1.592834</td>\n",
       "      <td>No</td>\n",
       "    </tr>\n",
       "    <tr>\n",
       "      <th>96</th>\n",
       "      <td>97</td>\n",
       "      <td>2.367940</td>\n",
       "      <td>1</td>\n",
       "      <td>0.596987</td>\n",
       "      <td>Yes</td>\n",
       "    </tr>\n",
       "    <tr>\n",
       "      <th>97</th>\n",
       "      <td>98</td>\n",
       "      <td>-1.207459</td>\n",
       "      <td>1</td>\n",
       "      <td>-1.446846</td>\n",
       "      <td>No</td>\n",
       "    </tr>\n",
       "    <tr>\n",
       "      <th>98</th>\n",
       "      <td>99</td>\n",
       "      <td>-0.417158</td>\n",
       "      <td>0</td>\n",
       "      <td>-0.278941</td>\n",
       "      <td>null</td>\n",
       "    </tr>\n",
       "    <tr>\n",
       "      <th>99</th>\n",
       "      <td>100</td>\n",
       "      <td>-1.155090</td>\n",
       "      <td>0</td>\n",
       "      <td>-1.738822</td>\n",
       "      <td>No</td>\n",
       "    </tr>\n",
       "  </tbody>\n",
       "</table>\n",
       "</div>"
      ],
      "text/plain": [
       "    Rollno     Marks  Gender       Age   PhD\n",
       "95      96 -0.807547       1 -1.592834    No\n",
       "96      97  2.367940       1  0.596987   Yes\n",
       "97      98 -1.207459       1 -1.446846    No\n",
       "98      99 -0.417158       0 -0.278941  null\n",
       "99     100 -1.155090       0 -1.738822    No"
      ]
     },
     "execution_count": 34,
     "metadata": {},
     "output_type": "execute_result"
    }
   ],
   "source": [
    "for i in cols:\n",
    "    df[i] = df1[i]\n",
    "df.tail()"
   ]
  },
  {
   "cell_type": "code",
   "execution_count": null,
   "id": "eaf72ac1",
   "metadata": {},
   "outputs": [],
   "source": []
  }
 ],
 "metadata": {
  "kernelspec": {
   "display_name": "Python 3 (ipykernel)",
   "language": "python",
   "name": "python3"
  },
  "language_info": {
   "codemirror_mode": {
    "name": "ipython",
    "version": 3
   },
   "file_extension": ".py",
   "mimetype": "text/x-python",
   "name": "python",
   "nbconvert_exporter": "python",
   "pygments_lexer": "ipython3",
   "version": "3.10.9"
  }
 },
 "nbformat": 4,
 "nbformat_minor": 5
}
